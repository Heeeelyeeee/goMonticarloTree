{
 "cells": [
  {
   "cell_type": "code",
   "execution_count": 1,
   "metadata": {},
   "outputs": [
    {
     "name": "stdout",
     "output_type": "stream",
     "text": [
      "cuda\n"
     ]
    }
   ],
   "source": [
    "import numpy as np\n",
    "import gym\n",
    "import copy\n",
    "import matplotlib.pyplot as plt\n",
    "import torch\n",
    "import torch.nn as nn\n",
    "import torchvision.transforms as transforms\n",
    "import torchvision\n",
    "import pandas as pd\n",
    "import re\n",
    "\n",
    "device = torch.device(\"cuda\" if torch.cuda.is_available() else \"cpu\")\n",
    "print(device)\n"
   ]
  },
  {
   "cell_type": "code",
   "execution_count": 2,
   "metadata": {},
   "outputs": [],
   "source": [
    "def normalizeQValues(arr, t_min, t_max):\n",
    "    norm_arr = []\n",
    "    diff = t_max - t_min\n",
    "    diff_arr = max(arr) - min(arr)   \n",
    "    for i in arr:\n",
    "        temp = (((i - min(arr))*diff)/diff_arr) + t_min\n",
    "        norm_arr.append(temp)\n",
    "    return norm_arr"
   ]
  },
  {
   "cell_type": "code",
   "execution_count": 3,
   "metadata": {},
   "outputs": [],
   "source": [
    "def normalize(arr):\n",
    "    norm_arr = []\n",
    "    max = 0\n",
    "    indexMax = 0\n",
    "    for a in range(len(arr)):\n",
    "        if arr[a] >= max:\n",
    "            max = arr[a]\n",
    "            indexMax = a\n",
    "    \n",
    "    for a in range(len(arr)):\n",
    "        if(a == indexMax):\n",
    "            norm_arr.append(1)\n",
    "        else:\n",
    "            norm_arr.append(0)\n",
    "    return norm_arr\n"
   ]
  },
  {
   "cell_type": "code",
   "execution_count": 4,
   "metadata": {},
   "outputs": [],
   "source": [
    "def make2Dmatrix(arr):\n",
    "    turn = arr[-1]\n",
    "    arr = arr[:-1]\n",
    "    for a in range(len(arr)):\n",
    "        if(arr[a] != 0):\n",
    "            arr[a] = arr[a]*turn\n",
    "\n",
    "    arr = arr.reshape((5,5))\n",
    "    \n",
    "    return arr\n"
   ]
  },
  {
   "cell_type": "code",
   "execution_count": 5,
   "metadata": {},
   "outputs": [
    {
     "name": "stderr",
     "output_type": "stream",
     "text": [
      "C:\\Users\\ugles\\AppData\\Local\\Temp\\ipykernel_60676\\3170694999.py:66: UserWarning: Creating a tensor from a list of numpy.ndarrays is extremely slow. Please consider converting the list to a single numpy.ndarray with numpy.array() before converting to a tensor. (Triggered internally at ..\\torch\\csrc\\utils\\tensor_new.cpp:233.)\n",
      "  gameStates = torch.tensor(gameStates) #The array seems a bit weird\n"
     ]
    }
   ],
   "source": [
    "#Hva må jeg gjøre med dataen?? lage x og y train og trening/test dataset.\n",
    "f = open(\"gameStateData2.txt\", \"r\")\n",
    "data = f.read()\n",
    "f.close()\n",
    "gameStates = []\n",
    "gameValuations = []\n",
    "ingamestate = False\n",
    "first = True\n",
    "s = \"\"\n",
    "m = \"\"\n",
    "for i in range(len(data)):\n",
    "    if i == len(data)-1:\n",
    "        ingamestate = True\n",
    "        first = False\n",
    "        numbers = re.findall('-?\\d+\\.?\\d*',str(m))\n",
    "        listOfNumbersV = []\n",
    "        for n in numbers:\n",
    "            listOfNumbersV.append(float(n))\n",
    "        m = \"\"\n",
    "        if(listOfNumbersV != []):\n",
    "            #listOfNumbersV = normalize(listOfNumbersV)\n",
    "            listOfNumbersV = normalizeQValues(listOfNumbersV,0,1)\n",
    "        gameValuations.append(listOfNumbersV)\n",
    "    if data[i] == \"T\":\n",
    "        gameStates[-1].append(float(1))\n",
    "    elif data[i] == \"F\":\n",
    "        gameStates[-1].append(float(-1))\n",
    "    if data[i] == \"[\" and not ingamestate:\n",
    "        ingamestate = True\n",
    "        first = False\n",
    "        numbers = re.findall('-?\\d+\\.?\\d*',str(m))\n",
    "        listOfNumbersV = []\n",
    "        for n in numbers:\n",
    "            listOfNumbersV.append(float(n))\n",
    "        m = \"\"\n",
    "        if(listOfNumbersV != []):\n",
    "            #listOfNumbersV = normalize(listOfNumbersV)\n",
    "            listOfNumbersV = normalizeQValues(listOfNumbersV,0,1)\n",
    "        gameValuations.append(listOfNumbersV)\n",
    "    elif data[i] == \"[\" and ingamestate:\n",
    "        ingamestate = False\n",
    "        numbers = re.findall('-?\\d+\\.?\\d*',str(s))\n",
    "        listOfNumbers = []\n",
    "        for n in numbers:\n",
    "            listOfNumbers.append(float(n))\n",
    "        s = \"\"\n",
    "        gameStates.append(listOfNumbers)\n",
    "    if ingamestate:\n",
    "        s += data[i]\n",
    "    if not ingamestate and not first:\n",
    "        m += data[i]\n",
    "\n",
    "# gameStates is all the x input and whos turn it is\n",
    "# gameValuations is all y output\n",
    "\n",
    "gameValuations.remove([])\n",
    "gameStates = np.asarray(gameStates)\n",
    "newData = []\n",
    "\n",
    "\n",
    "for a in range(len(gameStates)):\n",
    "    newData.append(make2Dmatrix(gameStates[a]))\n",
    "#print(gameValuations)\n",
    "gameStates = newData\n",
    "\n",
    "gameStates = torch.tensor(gameStates) #The array seems a bit weird\n",
    "gameValuations = torch.tensor(np.asarray(gameValuations))\n",
    "\n",
    "#f = open(\"reOrgDAta.txt\", \"w\")\n",
    "#for a in range(len(gameStates)):\n",
    "#    f.write(str(a) + \" : \" + str(gameStates[a]) + \" ::: \" + str(gameValuations[a]) + \"\\n \\n\")\n",
    "#f.close()\n",
    "\n",
    "#print(y_test)"
   ]
  },
  {
   "cell_type": "code",
   "execution_count": 6,
   "metadata": {},
   "outputs": [
    {
     "name": "stdout",
     "output_type": "stream",
     "text": [
      "26\n",
      "tensor([[[[ 0.,  0., -1.,  1.,  0.],\n",
      "          [ 0., -1., -1.,  1.,  0.],\n",
      "          [ 0., -1.,  1.,  1., -1.],\n",
      "          [-1.,  1.,  1.,  0.,  1.],\n",
      "          [ 0., -1.,  0.,  1.,  0.]]],\n",
      "\n",
      "\n",
      "        [[[ 0.,  0.,  1., -1.,  0.],\n",
      "          [ 0.,  1.,  1., -1., -1.],\n",
      "          [ 0.,  1., -1., -1.,  0.],\n",
      "          [ 1., -1., -1.,  0., -1.],\n",
      "          [ 0.,  1.,  0., -1.,  0.]]],\n",
      "\n",
      "\n",
      "        [[[ 0.,  0., -1.,  1.,  0.],\n",
      "          [ 0., -1., -1.,  1.,  1.],\n",
      "          [ 0., -1.,  1.,  1.,  0.],\n",
      "          [-1.,  1.,  1.,  0.,  1.],\n",
      "          [ 0., -1., -1.,  1.,  0.]]],\n",
      "\n",
      "\n",
      "        ...,\n",
      "\n",
      "\n",
      "        [[[ 0.,  0.,  0.,  0.,  0.],\n",
      "          [ 0.,  0., -1.,  0.,  0.],\n",
      "          [ 0.,  0.,  0.,  0.,  0.],\n",
      "          [ 0.,  0.,  1.,  0.,  0.],\n",
      "          [ 0.,  0.,  0.,  0.,  0.]]],\n",
      "\n",
      "\n",
      "        [[[ 0.,  0.,  0.,  0.,  0.],\n",
      "          [ 0.,  0.,  1.,  0.,  0.],\n",
      "          [ 0.,  0.,  0., -1.,  0.],\n",
      "          [ 0.,  0., -1.,  0.,  0.],\n",
      "          [ 0.,  0.,  0.,  0.,  0.]]],\n",
      "\n",
      "\n",
      "        [[[ 0.,  0.,  0.,  0.,  0.],\n",
      "          [ 0.,  0.,  0.,  0.,  0.],\n",
      "          [ 0.,  0.,  0.,  0.,  0.],\n",
      "          [ 0.,  0.,  0.,  0.,  0.],\n",
      "          [ 0.,  0.,  0.,  0.,  0.]]]], device='cuda:0')\n",
      "8169\n"
     ]
    }
   ],
   "source": [
    "x_train = gameStates[int(np.floor(len(gameStates)/5)):].to(device= device, dtype=torch.float)\n",
    "#x_train = gameStates[int(np.floor(len(gameStates)/5)):]\n",
    "y_train = gameValuations[int(np.floor(len(gameValuations)/5)):].to(device= device, dtype=torch.float)\n",
    "#y_train = gameValuations[int(np.floor(len(gameValuations)/5)):]\n",
    "x_test = gameStates[:int(np.floor(len(gameStates)/5))].to(device= device, dtype=torch.float)\n",
    "#x_test = gameStates[:int(np.floor(len(gameStates)/5))]\n",
    "y_test = gameValuations[:int(np.floor(len(gameValuations)/5))].to(device= device, dtype=torch.float)\n",
    "#y_test = gameValuations[:int(np.floor(len(gameValuations)/5))]\n",
    "\n",
    "x_train = x_train.reshape(-1,1,5,5)\n",
    "x_test = x_test.reshape(-1,1,5,5)\n",
    "\n",
    "def find_max_list(list):\n",
    "    list_len = [len(i) for i in list]\n",
    "    print(min(list_len))\n",
    "\n",
    "#print output#\n",
    "find_max_list(y_train)\n",
    "\n",
    "print(x_train)\n",
    "print(len(x_train))\n",
    "batches = 3251\n",
    "x_train_batches = torch.split(x_train, batches)\n",
    "y_train_batches = torch.split(y_train, batches)"
   ]
  },
  {
   "cell_type": "code",
   "execution_count": 7,
   "metadata": {},
   "outputs": [
    {
     "data": {
      "text/plain": [
       "ConvolutionalNeuralNetworkModel(\n",
       "  (features): Sequential(\n",
       "    (0): Conv2d(1, 32, kernel_size=(3, 3), stride=(1, 1), padding=(1, 1))\n",
       "    (1): BatchNorm2d(32, eps=1e-05, momentum=0.1, affine=True, track_running_stats=True)\n",
       "    (2): ReLU()\n",
       "    (3): Conv2d(32, 64, kernel_size=(3, 3), stride=(1, 1), padding=(1, 1))\n",
       "    (4): BatchNorm2d(64, eps=1e-05, momentum=0.1, affine=True, track_running_stats=True)\n",
       "    (5): ReLU()\n",
       "  )\n",
       "  (classifier): Sequential(\n",
       "    (0): Linear(in_features=1600, out_features=26, bias=True)\n",
       "  )\n",
       ")"
      ]
     },
     "execution_count": 7,
     "metadata": {},
     "output_type": "execute_result"
    }
   ],
   "source": [
    "## NN, omg help, what am i doing!\n",
    "\n",
    "class ConvolutionalNeuralNetworkModel(nn.Module):\n",
    "\n",
    "    def __init__(self):\n",
    "        super(ConvolutionalNeuralNetworkModel, self).__init__()\n",
    "\n",
    "        # Model layers (includes initialized model variables):\n",
    "        self.features = nn.Sequential(\n",
    "            nn.Conv2d(1, 32, kernel_size=3, padding = 1),\n",
    "            nn.BatchNorm2d(32),\n",
    "            nn.ReLU(),\n",
    "            nn.Conv2d(32, 64, kernel_size=3, padding=1),\n",
    "            nn.BatchNorm2d(64),\n",
    "            nn.ReLU()\n",
    "\n",
    "        )\n",
    "\n",
    "        self.classifier = nn.Sequential(\n",
    "            nn.Linear(64 * 5 * 5, 26),\n",
    "            #nn.LogSoftmax(1)\n",
    "            \n",
    "        )\n",
    "    # Predictor\n",
    "    def forward(self, x):\n",
    "        x = self.features(x)\n",
    "        #print(x.shape)\n",
    "        x = torch.flatten(x,1) #SJEKK OM BATCHENE GÅR OPP MED TOTAL INPUTEN\n",
    "        #print(x.shape)\n",
    "        x = self.classifier(x)\n",
    "        return (x)\n",
    "\n",
    "    # Cross Entropy loss\n",
    "    def loss(self, x, y):\n",
    "         return nn.functional.cross_entropy(self(x), y.argmax(1))\n",
    "\n",
    "    #def loss(self, x, y):\n",
    "    #    totalloss = 0\n",
    "    #    for xi in range(len(self(x))): \n",
    "    #        print(self(x)[xi])\n",
    "    #        print(y[xi])\n",
    "    #        totalloss += (self(x)[xi]-y[xi])**2\n",
    "    #        print(\"xi: \" +  str(self(x)))\n",
    "    #        print(\"yi: \" + str(y[xi]))\n",
    "    #    return torch.tensor(totalloss)\n",
    "\n",
    "    # Accuracy\n",
    "    def accuracy(self, x, y):\n",
    "        return torch.mean(torch.eq(self(x).argmax(1), y.argmax(1)).float())\n",
    "\n",
    "\n",
    "model = ConvolutionalNeuralNetworkModel()\n",
    "model.to(device)"
   ]
  },
  {
   "cell_type": "code",
   "execution_count": 8,
   "metadata": {},
   "outputs": [
    {
     "name": "stdout",
     "output_type": "stream",
     "text": [
      "accuracy = tensor(0.0808, device='cuda:0')\n",
      "accuracy = tensor(0.2463, device='cuda:0')\n",
      "accuracy = tensor(0.2463, device='cuda:0')\n",
      "accuracy = tensor(0.2463, device='cuda:0')\n",
      "accuracy = tensor(0.2429, device='cuda:0')\n",
      "accuracy = tensor(0.2380, device='cuda:0')\n",
      "accuracy = tensor(0.2380, device='cuda:0')\n",
      "accuracy = tensor(0.2326, device='cuda:0')\n",
      "accuracy = tensor(0.2302, device='cuda:0')\n",
      "accuracy = tensor(0.2321, device='cuda:0')\n"
     ]
    }
   ],
   "source": [
    "\n",
    "# Optimize: adjust W and b to minimize loss using stochastic gradient descent\n",
    "optimizer = torch.optim.Adam(model.parameters(), 0.001)\n",
    "for epoch in range(2500):\n",
    "    for batch in range(len(x_train_batches)):\n",
    "        # Compute loss gradients\n",
    "        loss = model.loss(x_train_batches[batch], y_train_batches[batch])\n",
    "        loss.backward()\n",
    "        optimizer.step()  # Perform optimization by adjusting W and b,\n",
    "        optimizer.zero_grad()  # Clear gradients for next step\n",
    "\n",
    "    if(epoch%250 == 0):\n",
    "        print(\"accuracy = %s\" % model.accuracy(x_test, y_test))\n",
    "\n",
    "torch.save(model, \"model\")\n"
   ]
  },
  {
   "cell_type": "code",
   "execution_count": 9,
   "metadata": {},
   "outputs": [
    {
     "name": "stdout",
     "output_type": "stream",
     "text": [
      "tensor([[[ 0.,  0.,  0.,  0.,  0.],\n",
      "         [ 0.,  0., -1.,  0.,  0.],\n",
      "         [ 0., -1., -1.,  1.,  0.],\n",
      "         [ 0.,  1.,  1.,  0.,  0.],\n",
      "         [ 0.,  0.,  0.,  0.,  0.]]], device='cuda:0')\n",
      "tensor([0.3379, 0.5068, 1.0000, 0.3379, 0.0913, 0.6712, 0.5023, 0.0000, 0.5890,\n",
      "        0.5023, 0.5845, 0.0000, 0.0000, 0.0000, 0.6712, 0.5890, 0.0000, 0.0000,\n",
      "        0.2603, 0.7489, 0.3425, 0.5890, 0.2557, 0.3425, 0.5023, 0.0959],\n",
      "       device='cuda:0')\n",
      "tensor([[3.5380e-11, 6.0569e-05, 1.3674e-06, 2.3591e-07, 3.4740e-12, 1.1028e-10,\n",
      "         2.3278e-06, 4.1341e-22, 2.5030e-03, 3.8469e-06, 1.0586e-05, 2.4711e-15,\n",
      "         8.8550e-17, 9.2633e-22, 4.3732e-07, 9.9666e-01, 5.8090e-20, 6.3329e-21,\n",
      "         7.4864e-04, 5.6865e-06, 3.1497e-14, 2.2587e-13, 6.6197e-09, 2.2139e-08,\n",
      "         4.1945e-12, 1.4174e-17]], device='cuda:0')\n",
      "cuda\n"
     ]
    }
   ],
   "source": [
    "newmodel = ConvolutionalNeuralNetworkModel()\n",
    "newmodel = torch.load(\"model\")\n",
    "newmodel.eval()\n",
    "print(x_test[5])\n",
    "print(y_test[5])\n",
    "with torch.no_grad():\n",
    "    y = newmodel(x_test[5].unsqueeze(0))\n",
    "    \n",
    "print(torch.softmax(y,1))\n",
    "print(device)\n",
    "\n"
   ]
  }
 ],
 "metadata": {
  "kernelspec": {
   "display_name": "Python 3.10.0 ('venv': venv)",
   "language": "python",
   "name": "python3"
  },
  "language_info": {
   "codemirror_mode": {
    "name": "ipython",
    "version": 3
   },
   "file_extension": ".py",
   "mimetype": "text/x-python",
   "name": "python",
   "nbconvert_exporter": "python",
   "pygments_lexer": "ipython3",
   "version": "3.10.0"
  },
  "orig_nbformat": 4,
  "vscode": {
   "interpreter": {
    "hash": "92fcf0aad2da8148c2607aaa49599ba34d2c5fd2f9641a836a70d8faa62adc8d"
   }
  }
 },
 "nbformat": 4,
 "nbformat_minor": 2
}
